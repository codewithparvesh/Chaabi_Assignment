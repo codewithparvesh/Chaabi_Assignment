{
 "cells": [
  {
   "cell_type": "markdown",
   "id": "0a433643",
   "metadata": {},
   "source": [
    " # Q1. Get your basics right\n",
    "Implement selection sort algorithm in python. The function accepts a\n",
    "list in the input and returns a sorted list.\n",
    "E.g.\n",
    "\n",
    "Input f1([5,416,54,21,6135,15,741]) should\n",
    "\n",
    "Return [5, 15, 21, 54, 416, 741, 6135]"
   ]
  },
  {
   "cell_type": "code",
   "execution_count": 19,
   "id": "92945eaa",
   "metadata": {},
   "outputs": [],
   "source": [
    "def selection_sort(lst):\n",
    "    # To Iterate over each element in the list\n",
    "    for i in range(len(lst)):\n",
    "        min_index = i\n",
    "        # Find the minimum element from unsorted list\n",
    "        for j in range(i, len(lst)):\n",
    "            if lst[j] < lst[i]:\n",
    "                # If a smaller element is found, update the minimum index\n",
    "                min_index = j\n",
    "        \n",
    "        # Swap the current element with the minimum element found\n",
    "        lst[i], lst[min_index] = lst[min_index], lst[i]\n"
   ]
  },
  {
   "cell_type": "code",
   "execution_count": 20,
   "id": "a544ab3e",
   "metadata": {},
   "outputs": [
    {
     "name": "stdout",
     "output_type": "stream",
     "text": [
      "Old List: [5, 416, 54, 21, 6135, 15, 15, 741]\n",
      "Sorted List  [5, 15, 15, 21, 741, 54, 416, 6135]\n"
     ]
    }
   ],
   "source": [
    "lst = [5,416,54,21,6135,15,15,741]\n",
    "print(\"Old List:\", lst)\n",
    "selection_sort(lst)\n",
    "print(\"Sorted List \", lst)"
   ]
  },
  {
   "cell_type": "markdown",
   "id": "4b6771d7",
   "metadata": {},
   "source": [
    "# Q2. Dictionary, what?\n",
    "Write a program that returns the file type from a file name. The type of the file is determined\n",
    "from the extension. Initially, a list of values of the form \"extension,type\"(e.g. xls,spreadsheet;\n",
    "png,image) will be input.\n",
    "The program takes input in the following form:\n",
    "\n",
    "1. Input extension and type values in the form of a string having the following format:\n",
    "\n",
    "a. \"extension1,type1;extension2,type2;extension3,type3\"\n",
    "\n",
    "b. E.g. If we needed to input xls → spreadsheet, xlsx → spreadsheet, jpg → image\n",
    "our string would be something like: \"xls,spreadsheet;xlsx,spreadsheet;jpg,image\"\n",
    "\n",
    "2. Input a list of filename.extension. E.g. an input list could be something like [\"abc.html\",\n",
    "\"xyz.xls\", \"text.csv\", \"123\"]\n",
    "\n",
    "The program should return a dict of filename: type pairs\n",
    "\n",
    "E.g.\n",
    "\n",
    "f(\"xls,spreadsheet;xlsx,spreadsheet;jpg,image\", [\"abc.jpg\",\n",
    "\"xyz.xls\", \"text.csv\", \"123\"]) should return\n",
    "{\n",
    "\"abc.jpg\": \"image\",\n",
    "\"xyz.xls\": \"spreadsheet\",\n",
    "\"Text.csv\": \"unknown\",\n",
    "\"123\": \"unknown\"\n",
    "}\n"
   ]
  },
  {
   "cell_type": "code",
   "execution_count": 21,
   "id": "ca656248",
   "metadata": {},
   "outputs": [
    {
     "name": "stdout",
     "output_type": "stream",
     "text": [
      "{'abc.jpg': 'image', 'xyz.xls': 'spreadsheet', 'text.csv': 'unknown', '123': 'unknown'}\n"
     ]
    }
   ],
   "source": [
    "def get_file_type(extension_type_string, filenames):\n",
    "    \n",
    "    extension_type_list = extension_type_string.split(';')   # split the string by ; and convert into list\n",
    "    extension_type_dict = {}  # created an new empty dictonary\n",
    "    for extension_type in extension_type_list:\n",
    "        extension, file_type = extension_type.split(',')\n",
    "        extension_type_dict[extension] = file_type\n",
    "    filename_type_dict = {}\n",
    "    \n",
    "    for filename in filenames:\n",
    "        extension = filename.split('.')[-1]\n",
    "        file_type = extension_type_dict.get(extension, 'unknown')\n",
    "        filename_type_dict[filename] = file_type\n",
    "    \n",
    "    return filename_type_dict\n",
    "\n",
    "extension_type_string = \"xls,spreadsheet;xlsx,spreadsheet;jpg,image\"\n",
    "filenames = [\"abc.jpg\", \"xyz.xls\", \"text.csv\", \"123\"]\n",
    "result = get_file_type(extension_type_string, filenames)\n",
    "print(result)"
   ]
  },
  {
   "cell_type": "markdown",
   "id": "ccdf068f",
   "metadata": {},
   "source": [
    "\n",
    "# Q3. Column Sorting, yay!\n",
    "Given a list of dicts, write a program to sort the list according to a key given in input.\n",
    "E.g.\n",
    "Input f([\n",
    "{\"fruit\": \"orange\", \"color\": \"orange\"},\n",
    "{\"fruit\": \"apple\", \"color\": \"red\"},\n",
    "{\"fruit\": \"banana\", \"color\": \"yellow\"},\n",
    "{\"fruit\": \"blueberry\", \"color\": \"blue\"}\n",
    "], \"fruit\")\n",
    "Should Output\n",
    "[\n",
    "{\"fruit\": \"apple\", \"color\": \"red\"},\n",
    "{\"fruit\": \"banana\", \"color\": \"yellow\"},\n",
    "{\"fruit\": \"blueberry\", \"color\": \"blue\"},\n",
    "{\"fruit\": \"orange\", \"color\": \"orange\"}\n",
    "]\n",
    "AND\n",
    "Input f([\n",
    "{\"fruit\": \"orange\", \"color\": \"orange\"},\n",
    "{\"fruit\": \"apple\", \"color\": \"red\"},\n",
    "{\"fruit\": \"banana\", \"color\": \"yellow\"},\n",
    "{\"fruit\": \"blueberry\", \"color\": \"blue\"}\n",
    "], \"color\")\n",
    "Should Output\n",
    "[\n",
    "{\"fruit\": \"blueberry\", \"color\": \"blue\"},\n",
    "{\"fruit\": \"orange\", \"color\": \"orange\"},\n",
    "{\"fruit\": \"apple\", \"color\": \"red\"},\n",
    "{\"fruit\": \"banana\", \"color\": \"yellow\"}\n",
    "]\n"
   ]
  },
  {
   "cell_type": "code",
   "execution_count": 22,
   "id": "11cf3471",
   "metadata": {},
   "outputs": [
    {
     "name": "stdout",
     "output_type": "stream",
     "text": [
      "['ravi', 'rajnish', 'sanjeev', 'yash', 'suraj']\n",
      "{'rajnish': 9, 'ravi': 10, 'sanjeev': 15, 'suraj': 32, 'yash': 2}\n"
     ]
    }
   ],
   "source": [
    "myDict = {'ravi': 10, 'rajnish': 9,\n",
    "        'sanjeev': 15, 'yash': 2, 'suraj': 32}\n",
    "\n",
    "myKeys = list(myDict.keys())\n",
    "# Store the onlye keys so i can sort\n",
    "print(myKeys)\n",
    "myKeys.sort()\n",
    "#  to Sort the list of keys\n",
    "\n",
    "\n",
    "sorted_dict = {i: myDict[i] for i in myKeys}\n",
    "# create the new dictonary by using sorted list as key and corresponding values from the previous dictionary\n",
    "\n",
    "print(sorted_dict)"
   ]
  },
  {
   "cell_type": "markdown",
   "id": "49590286",
   "metadata": {},
   "source": [
    "# Q4. The power of one line -\n",
    "Given a dictionary, switch position of key and values in the dict, i.e., value becomes the key and\n",
    "key becomes value. The function's body shouldn't have more than one statement.\n",
    "f({\n",
    "\"key1\": \"value1\",\n",
    "\"key2\": \"value2\",              \n",
    "\"key3\": \"value3\",\n",
    "\"key4\": \"value4\",\n",
    "\"key5\": \"value5\"\n",
    "}) should return\n",
    "{\n",
    "\"value1\": \"key1\",\n",
    "\"value2\": \"key2\",\n",
    "\"value3\": \"key3\",\n",
    "\"value4\": \"key4\",\n",
    "\"value5\": \"key5\"\n",
    "}\n"
   ]
  },
  {
   "cell_type": "code",
   "execution_count": 23,
   "id": "875e3b02",
   "metadata": {},
   "outputs": [
    {
     "name": "stdout",
     "output_type": "stream",
     "text": [
      "New Modified Dictonary\n",
      "('value1', 'key1')\n",
      "('value2', 'key2')\n",
      "('value3', 'key3')\n",
      "('value4', 'key4')\n",
      "('value5', 'key5')\n"
     ]
    }
   ],
   "source": [
    "dic = {\n",
    "\"key1\": \"value1\",\n",
    "\"key2\": \"value2\",\n",
    "\"key3\": \"value3\",\n",
    "\"key4\": \"value4\",\n",
    "\"key5\": \"value5\"\n",
    "}\n",
    "\n",
    "ans = {value:key for key,value in dic.items()}\n",
    "# created an new dictonary to change the key to value\n",
    "\n",
    "print(\"New Modified Dictonary\")\n",
    "\n",
    "for i in ans.items():\n",
    "    print(i)"
   ]
  },
  {
   "cell_type": "markdown",
   "id": "0726925f",
   "metadata": {},
   "source": [
    "# Q5. Common, Not Common\n",
    "Given 2 lists in input. Write a program to return the elements, which are common to both\n",
    "lists(set intersection) and those which are not common(set symmetric difference) between the\n",
    "lists.\n",
    "\n",
    "Input:\n",
    "Mainstream = [\"One Punch Man\",\"Attack On Titan\",\"OnePiece\",\"Sword\n",
    "Art Online\",\"Bleach\",\"Dragon Ball Z\",\"One Piece\"]\n",
    "must_watch = [\"Full Metal Alchemist\",\"Code Geass\",\"Death\n",
    "Note\",\"Stein's Gate\",\"The Devil is a Part Timer!\",\"One Piece\",\"Attack\n",
    "On Titan\"]\n",
    "\n",
    "f(mainstream, must_watch) should return:\n",
    "\n",
    "[\"One Piece\", \"Attack On Titan\"], [\"Dragon Ball Z\", \"Death Note\",\n",
    "\"One Punch Man\", \"Stein's Gate\", \"The Devil is a Part Timer!\", \"Sword\n",
    "Art Online\",\"Full Metal Alchemist\",\"'Bleach\", \"Code Geass\"]\n"
   ]
  },
  {
   "cell_type": "code",
   "execution_count": 24,
   "id": "4aab72a1",
   "metadata": {},
   "outputs": [],
   "source": [
    "mainstream = [\"One Punch Man\",\"Attack On Titan\",\"OnePiece\",\"SwordArt Online\",\n",
    "              \"Bleach\",\"Dragon Ball Z\",\"One Piece\"]\n",
    "must_watch = [\"Full Metal Alchemist\",\"Code Geass\",\"DeathNote\",\n",
    "              \"Stein's Gate\",\"The Devil is a Part Timer!\",\"One Piece\",\"Attack On Titan\"]"
   ]
  },
  {
   "cell_type": "code",
   "execution_count": 25,
   "id": "a4d95386",
   "metadata": {},
   "outputs": [
    {
     "name": "stdout",
     "output_type": "stream",
     "text": [
      "List of The Common Elements: ['One Piece', 'Attack On Titan']\n",
      "\n",
      "List of The UnCommon Elements: ['Full Metal Alchemist', \"Stein's Gate\", 'SwordArt Online', 'OnePiece', 'Bleach', 'One Punch Man', 'Code Geass', 'The Devil is a Part Timer!', 'DeathNote', 'Dragon Ball Z']\n"
     ]
    }
   ],
   "source": [
    "common_list = list(set(mainstream) & set(must_watch))\n",
    "uncommon_list = list(set(mainstream) ^ set(must_watch))\n",
    "print(f\"List of The Common Elements: {common_list}\")\n",
    "print()\n",
    "print(f\"List of The UnCommon Elements: {uncommon_list}\")"
   ]
  },
  {
   "cell_type": "markdown",
   "id": "0309aeaf",
   "metadata": {},
   "source": [
    "# Q6. Every other sub-list\n",
    "Given a list and 2 indices as input, return the sub-list enclosed within these 2 indices. It should\n",
    "contain every second element.\n",
    "\n",
    "E.g.\n",
    "\n",
    "Input f([2,3,5,7,11,13,17,19,23,29,31,37,41], 2, 9)\n",
    "\n",
    "Return [5, 11, 17, 23]"
   ]
  },
  {
   "cell_type": "code",
   "execution_count": 26,
   "id": "344192dc",
   "metadata": {},
   "outputs": [
    {
     "name": "stdout",
     "output_type": "stream",
     "text": [
      "[5, 11, 17, 23]\n"
     ]
    }
   ],
   "source": [
    "lst = [2,3,5,7,11,13,17,19,23,29,31,37,41]\n",
    "lst2= lst[2:9]\n",
    "print(lst2[::2])"
   ]
  },
  {
   "cell_type": "markdown",
   "id": "95c25e4c",
   "metadata": {},
   "source": [
    "# Q7. Calculate the factorial of a number using lambda function."
   ]
  },
  {
   "cell_type": "code",
   "execution_count": 33,
   "id": "f96a142f",
   "metadata": {},
   "outputs": [
    {
     "name": "stdout",
     "output_type": "stream",
     "text": [
      "5\n",
      "The factorial of 11 is: 120\n"
     ]
    }
   ],
   "source": [
    "lambda_fun = lambda n: 1 if n == 0 else n * lambda_fun(n - 1)\n",
    "\n",
    "ans = lambda_fun(int(input()))\n",
    "\n",
    "print(f\"The factorial of {n} is: {ans}\")"
   ]
  },
  {
   "cell_type": "markdown",
   "id": "5d6e0bd8",
   "metadata": {},
   "source": [
    "# Q8. Some neat tricks up her sleeve:\n",
    "\n",
    "Looking at the below code, write down the final values of A0, A1, ...An"
   ]
  },
  {
   "cell_type": "code",
   "execution_count": 28,
   "id": "b5dcae25",
   "metadata": {},
   "outputs": [
    {
     "name": "stdout",
     "output_type": "stream",
     "text": [
      "A1: [2, 4, 6, 8, 10]\n",
      "A2: [10, 8, 6, 4, 2]\n",
      "A3: [4, 6, 8]\n",
      "A4: [2, 4, 6, 8, 10]\n",
      "A5: {2: 4, 4: 16, 6: 36, 8: 64, 10: 100}\n",
      "A6: [[2, 4], [4, 16], [6, 36], [8, 64], [10, 100]]\n",
      "A7: 21\n",
      "2 4 6 8\n",
      "want learn python\n"
     ]
    }
   ],
   "source": [
    "from functools import reduce\n",
    "\n",
    "A1 = [2, 4, 6, 8, 10]\n",
    "A2 = A1[::-1] # create new list by reversed using the slicing\n",
    "A3 = A1[1:4] # new list with elements from  index 1 to 3 by using slicing \n",
    "A4 = [i for i in A1 if i % 2 == 0] # new list using  a list comprehension\n",
    "A5 = {i: i*i for i in A1}\n",
    "A6 = [[i, i*i] for i in A1]\n",
    "A7 = reduce(lambda x, y: x + y, [10, 23, -45, 33]) \n",
    "# use lambda funtion to make function quick and short\n",
    "#  reduce use to get the single value\n",
    "A8 = map(lambda x: x*2, [1, 2, 3, 4])\n",
    "A9 = filter(lambda x: len(x) > 3, [\"I\", \"want\", \"to\", \"learn\", \"python\"])\n",
    "\n",
    "print('A1:' , A1)\n",
    "print('A2:' , A2)\n",
    "print('A3:' , A3)\n",
    "print('A4:' , A4)\n",
    "print('A5:' , A5)\n",
    "print('A6:' , A6)\n",
    "print('A7:' , A7)\n",
    "print(*A8)\n",
    "print(*A9)"
   ]
  },
  {
   "cell_type": "markdown",
   "id": "0d3a4163",
   "metadata": {},
   "source": [
    "# Q9. Write a func that takes 3 args:\n",
    "from_date - string representing a date in the form of 'yy-mm-dd'\n",
    "to_date - string representing a date in the form of 'yy-mm-dd'\n",
    "difference - int\n",
    "Returns True if from_date and to_date are less than difference days away from each other, else\n",
    "returns False"
   ]
  },
  {
   "cell_type": "code",
   "execution_count": 29,
   "id": "32753e33",
   "metadata": {},
   "outputs": [
    {
     "name": "stdout",
     "output_type": "stream",
     "text": [
      "True\n"
     ]
    }
   ],
   "source": [
    "from datetime import datetime, timedelta\n",
    "\n",
    "def is_date_difference_less(from_date, to_date, difference):\n",
    "    # Convert the date strings to datetime objects\n",
    "    from_date = datetime.strptime(from_date, '%y-%m-%d')\n",
    "    to_date = datetime.strptime(to_date, '%y-%m-%d')\n",
    "    \n",
    "    # Calculate the difference between the two dates\n",
    "    date_difference = (to_date - from_date).days\n",
    "    \n",
    "    # Check if the difference is less than the specified number of days\n",
    "    if date_difference < difference:\n",
    "        return True\n",
    "    else:\n",
    "        return False\n",
    "\n",
    "\n",
    "# Test the function\n",
    "from_date = '21-06-01'\n",
    "to_date = '21-06-05'\n",
    "difference = 7\n",
    "result = is_date_difference_less(from_date, to_date, difference)\n",
    "print(result)"
   ]
  },
  {
   "cell_type": "markdown",
   "id": "a6fa730e",
   "metadata": {},
   "source": [
    "# Q10. Of date and days\n",
    "Write a func that takes 2 args:\n",
    "date - string representing a date in the form of 'yy-mm-dd'\n",
    "n - integer\n",
    "Returns the string representation of date n days before 'date'\n",
    "E.g. f('16-12-10', 11) should return '16-11-29'\n"
   ]
  },
  {
   "cell_type": "code",
   "execution_count": 30,
   "id": "db9b708a",
   "metadata": {},
   "outputs": [
    {
     "name": "stdout",
     "output_type": "stream",
     "text": [
      "16-11-29\n"
     ]
    }
   ],
   "source": [
    "from datetime import datetime, timedelta\n",
    "\n",
    "def get_date_n_days_before(date, n):\n",
    "    date_obj = datetime.strptime(date, '%y-%m-%d')\n",
    "    new_date = date_obj - timedelta(days=n)\n",
    "    return new_date.strftime('%y-%m-%d')\n",
    "date = '16-12-10'\n",
    "n = 11\n",
    "result = get_date_n_days_before(date, n)\n",
    "print(result)"
   ]
  },
  {
   "cell_type": "markdown",
   "id": "489edfd4",
   "metadata": {},
   "source": [
    "# Q11. Something fishy there -\n",
    "Find output of following:\n",
    "def f(x,l=[]):\n",
    "for i in range(x):\n",
    "l.append(i*i)\n",
    "print(l)\n",
    "f(2)\n",
    "f(3,[3,2,1])\n",
    "f(3)"
   ]
  },
  {
   "cell_type": "code",
   "execution_count": 31,
   "id": "0b892750",
   "metadata": {},
   "outputs": [
    {
     "name": "stdout",
     "output_type": "stream",
     "text": [
      "[0, 1]\n",
      "[3, 2, 1, 0, 1, 4]\n",
      "[0, 1, 0, 1, 4]\n"
     ]
    }
   ],
   "source": [
    "def f(x, l=[]):\n",
    "    for i in range(x):\n",
    "        l.append(i*i)\n",
    "    print(l)\n",
    "\n",
    "f(2)\n",
    "f(3, [3, 2, 1])\n",
    "f(3)"
   ]
  },
  {
   "cell_type": "code",
   "execution_count": null,
   "id": "cb85fdbc",
   "metadata": {},
   "outputs": [],
   "source": []
  }
 ],
 "metadata": {
  "kernelspec": {
   "display_name": "Python 3 (ipykernel)",
   "language": "python",
   "name": "python3"
  },
  "language_info": {
   "codemirror_mode": {
    "name": "ipython",
    "version": 3
   },
   "file_extension": ".py",
   "mimetype": "text/x-python",
   "name": "python",
   "nbconvert_exporter": "python",
   "pygments_lexer": "ipython3",
   "version": "3.11.1"
  }
 },
 "nbformat": 4,
 "nbformat_minor": 5
}
